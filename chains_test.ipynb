{
 "cells": [
  {
   "cell_type": "code",
   "execution_count": 1,
   "metadata": {
    "jupyter": {
     "is_executing": true
    }
   },
   "outputs": [
    {
     "name": "stdout",
     "output_type": "stream",
     "text": [
      "Jupyter notebook running\n"
     ]
    }
   ],
   "source": [
    "print(\"Jupyter notebook running\")"
   ]
  },
  {
   "cell_type": "markdown",
   "metadata": {},
   "source": [
    "# LangChain Ecosystem Notebook"
   ]
  },
  {
   "cell_type": "code",
   "execution_count": 2,
   "metadata": {},
   "outputs": [
    {
     "name": "stdout",
     "output_type": "stream",
     "text": [
      "OpenAI API Key exists:  True\n"
     ]
    }
   ],
   "source": [
    "from langchain_openai import ChatOpenAI\n",
    "from langchain_core.prompts import PromptTemplate\n",
    "from langchain_core.output_parsers import StrOutputParser\n",
    "import os\n",
    "from dotenv import load_dotenv\n",
    "\n",
    "load_dotenv()\n",
    "\n",
    "openai_api_key = os.getenv(\"OPENAI_API_KEY\")\n",
    "print(\"OpenAI API Key exists: \",openai_api_key != None)"
   ]
  },
  {
   "cell_type": "markdown",
   "metadata": {},
   "source": [
    "## Chains"
   ]
  },
  {
   "cell_type": "code",
   "execution_count": 3,
   "metadata": {},
   "outputs": [],
   "source": [
    "destination_prompt = PromptTemplate(\n",
    "    input_variables=[\"destination\"],\n",
    "    template=\"I am planning a trip to {destination}. Can you suggest some activities to do there?\"\n",
    ")\n",
    "\n",
    "activities_prompt = PromptTemplate(\n",
    "    input_variables=[\"activities\"],\n",
    "    template=\"I only have one day, so can you create an itinerary from your top three activities: {activities}.\"\n",
    ")\n",
    "\n",
    "llm = ChatOpenAI(model=\"gpt-4o-mini\")\n",
    "\n",
    "seq_chain = ({\"activities\": destination_prompt | llm | StrOutputParser()}\n",
    "             | activities_prompt\n",
    "             | llm\n",
    "             | StrOutputParser())\n",
    "\n"
   ]
  },
  {
   "cell_type": "code",
   "execution_count": 4,
   "metadata": {},
   "outputs": [
    {
     "name": "stdout",
     "output_type": "stream",
     "text": [
      "```markdown\n",
      "Here's a one-day itinerary for Miraflores that incorporates the top three activities you mentioned, ensuring you make the most of your time in this vibrant district:\n",
      "\n",
      "### Morning\n",
      "\n",
      "**1. Explore Huaca Pucllana (9:00 AM - 10:30 AM)**\n",
      "- Start your day with a visit to the ancient pre-Columbian archaeological site, Huaca Pucllana. Take a guided tour to learn about the history and significance of this fascinating site. It’s a great way to immerse yourself in Lima’s rich cultural heritage.\n",
      "\n",
      "**2. Visit Parque Kennedy (10:45 AM - 11:30 AM)**\n",
      "- After your tour, head to Parque Kennedy, located nearby. Enjoy the lively atmosphere, watch the resident cats, and maybe grab a coffee at one of the nearby cafes.\n",
      "\n",
      "### Lunch\n",
      "\n",
      "**3. Try Peruvian Cuisine (11:45 AM - 1:00 PM)**\n",
      "- For lunch, indulge in some delicious Peruvian cuisine. You can try a local cevicheria for fresh ceviche or opt for a restaurant like Central or Maido for a more upscale dining experience. \n",
      "\n",
      "### Afternoon\n",
      "\n",
      "**4. Stroll along the Malecón (1:15 PM - 3:00 PM)**\n",
      "- After lunch, take a leisurely stroll along the Malecón, enjoying the stunning views of the Pacific Ocean. The walkway is lined with gardens, sculptures, and beautiful spots to relax. If you're feeling adventurous, consider trying paragliding for an unforgettable aerial view of the coastline.\n",
      "\n",
      "**5. Visit Parque del Amor (3:15 PM - 4:00 PM)**\n",
      "- Continue your walk to Parque del Amor, a romantic spot famous for its \"El Beso\" statue and beautiful ocean views. It’s perfect for taking photos and enjoying the scenic surroundings.\n",
      "\n",
      "### Evening\n",
      "\n",
      "**6. Relax at the Beaches (4:15 PM - 5:30 PM)**\n",
      "- Head down to one of the nearby beaches, such as Playa Waikiki, to unwind and soak up the sun. If you're inclined, you can also try surfing or simply relax on the shore.\n",
      "\n",
      "### Dinner\n",
      "\n",
      "**7. Dinner at Larcomar (6:00 PM - 8:00 PM)**\n",
      "- End your day at Larcomar, the upscale shopping center built into the cliffs. Enjoy dinner with ocean views at one of the many restaurants. You can choose from a range of dining options, from casual to fine dining. After dinner, take some time to explore the shops or enjoy a walk along the promenade.\n",
      "\n",
      "### Night\n",
      "\n",
      "**8. Enjoy the Nightlife (8:30 PM onwards)**\n",
      "- If you’re up for it, explore the nightlife in Miraflores. There are many bars and clubs where you can enjoy live music, dance, and sample Pisco cocktails to cap off your day.\n",
      "\n",
      "---\n",
      "\n",
      "This itinerary provides a balanced mix of history, culture, and leisure, allowing you to experience the best of Miraflores in a single day. Enjoy your visit!\n",
      "```\n"
     ]
    }
   ],
   "source": [
    "result = seq_chain.invoke({\"destination\": \"Lima Perú (Miraflores)\"})\n",
    "# Print markdown\n",
    "print(\"```markdown\")\n",
    "print(result)\n",
    "print(\"```\")\n"
   ]
  },
  {
   "cell_type": "code",
   "execution_count": 5,
   "metadata": {},
   "outputs": [],
   "source": [
    "# Create a prompt template that takes an input activity\n",
    "learning_prompt = PromptTemplate(\n",
    "    input_variables=[\"activity\"],\n",
    "    template=\"I want to learn how to {activity}. Can you suggest how I can learn this step-by-step?\"\n",
    ")\n",
    "\n",
    "# Create a prompt template that places a time constraint on the output\n",
    "time_prompt = PromptTemplate(\n",
    "    input_variables=[\"learning_plan\"],\n",
    "    template=\"I only have one week. Can you create a plan to help me hit this goal: {learning_plan}.\"\n",
    ")\n",
    "\n",
    "seq_chain_learning = ({\"learning_plan\": learning_prompt | llm | StrOutputParser()}\n",
    "             | time_prompt\n",
    "             | llm\n",
    "             | StrOutputParser())\n"
   ]
  },
  {
   "cell_type": "code",
   "execution_count": 6,
   "metadata": {},
   "outputs": [
    {
     "name": "stdout",
     "output_type": "stream",
     "text": [
      "Here's a focused one-week plan to help you learn regular expressions (regex) in the context of Unix commands. Each day will include specific topics, resources, and practical exercises to ensure you build a strong understanding of regex by the end of the week.\n",
      "\n",
      "### Day 1: Introduction to Regex Basics\n",
      "\n",
      "**Topics:**\n",
      "- What is Regex?\n",
      "- Basic Syntax and Special Characters\n",
      "\n",
      "**Activities:**\n",
      "1. **Read:** Introduction to Regex (search for basic regex resources).\n",
      "2. **Learn Basic Syntax:**\n",
      "   - Understand characters: `.`, `*`, `+`, `?`, `[]`, `^`, `$`, `()`.\n",
      "3. **Practice:** Use [regex101.com](https://regex101.com/) to experiment with basic patterns.\n",
      "\n",
      "**Exercises:**\n",
      "- Create simple regex patterns and test them on sample text.\n",
      "\n",
      "---\n",
      "\n",
      "### Day 2: Character Classes and Quantifiers\n",
      "\n",
      "**Topics:**\n",
      "- Character Classes (e.g., `\\d`, `\\w`, `\\s`)\n",
      "- Quantifiers (`{n}`, `{n,}`, `{n,m}`)\n",
      "\n",
      "**Activities:**\n",
      "1. **Read:** Documentation on character classes and quantifiers.\n",
      "2. **Practice:** Use regex tools to create and test various character classes and quantifiers.\n",
      "\n",
      "**Exercises:**\n",
      "- Write regex patterns to match:\n",
      "  - Email addresses\n",
      "  - Dates in the format MM/DD/YYYY\n",
      "\n",
      "---\n",
      "\n",
      "### Day 3: Using Regex with Unix Commands\n",
      "\n",
      "**Topics:**\n",
      "- Introduction to `grep`\n",
      "\n",
      "**Activities:**\n",
      "1. **Learn How to Use `grep`:**\n",
      "   - Basic usage: `grep 'pattern' filename`\n",
      "   - Explore options: `-i`, `-r`, `-v`, `-E` (for extended regex).\n",
      "2. **Practice:**\n",
      "   - Create a text file with sample data and use `grep` to find patterns.\n",
      "\n",
      "**Exercises:**\n",
      "- Search for:\n",
      "  - Lines containing a specific word.\n",
      "  - Lines that start with a specific character.\n",
      "\n",
      "---\n",
      "\n",
      "### Day 4: Stream Editing with `sed`\n",
      "\n",
      "**Topics:**\n",
      "- Introduction to `sed`\n",
      "\n",
      "**Activities:**\n",
      "1. **Learn Basic `sed` Commands:**\n",
      "   - Substitution: `sed 's/pattern/replacement/' filename`\n",
      "   - Deletion: `sed '/pattern/d' filename`\n",
      "2. **Practice:** Use `sed` to edit sample text files.\n",
      "\n",
      "**Exercises:**\n",
      "- Replace all instances of a word in a file.\n",
      "- Delete lines containing a specific pattern.\n",
      "\n",
      "---\n",
      "\n",
      "### Day 5: Pattern Scanning with `awk`\n",
      "\n",
      "**Topics:**\n",
      "- Introduction to `awk`\n",
      "\n",
      "**Activities:**\n",
      "1. **Learn Basic `awk` Commands:**\n",
      "   - Pattern matching: `awk '/pattern/ {print $0}' filename`\n",
      "   - Field separation and manipulation.\n",
      "2. **Practice:** Use `awk` to analyze sample data files.\n",
      "\n",
      "**Exercises:**\n",
      "- Print specific fields from a CSV file.\n",
      "- Count occurrences of a specific pattern in a file.\n",
      "\n",
      "---\n",
      "\n",
      "### Day 6: Hands-On Practice\n",
      "\n",
      "**Activities:**\n",
      "1. **Solve Regex Challenges:**\n",
      "   - Visit platforms like [LeetCode](https://leetcode.com/) or [HackerRank](https://www.hackerrank.com/) and find regex challenges.\n",
      "2. **Real-World Application:**\n",
      "   - Choose a text processing task (e.g., log file analysis) and apply what you’ve learned.\n",
      "\n",
      "**Exercises:**\n",
      "- Write a script that uses `grep`, `sed`, and `awk` to process a log file.\n",
      "\n",
      "---\n",
      "\n",
      "### Day 7: Review, Expand, and Collaborate\n",
      "\n",
      "**Activities:**\n",
      "1. **Review Your Learning:**\n",
      "   - Go over the regex concepts and Unix commands you learned.\n",
      "2. **Join Communities:**\n",
      "   - Ask questions on Stack Overflow or Reddit (e.g., r/regex, r/unix).\n",
      "3. **Explore Advanced Topics:**\n",
      "   - Look into lookaheads/lookbehinds, backreferences, and non-capturing groups.\n",
      "\n",
      "**Exercises:**\n",
      "- Share your regex scripts or patterns with peers for feedback.\n",
      "- Continue practicing with more complex regex patterns.\n",
      "\n",
      "---\n",
      "\n",
      "### Additional Tips\n",
      "- Allocate 1-2 hours each day for focused learning and practice.\n",
      "- Make notes of important regex patterns and commands for quick reference.\n",
      "- Use the interactive tools frequently; they provide instant feedback and explanations.\n",
      "\n",
      "By following this plan, you should gain a solid understanding of regex in the context of Unix commands within a week. Good luck, and happy learning!\n"
     ]
    }
   ],
   "source": [
    "# Invoke the learning_prompt with an activity\n",
    "result = seq_chain_learning.invoke({\"activity\": \"learn regex patterns on unix commands\"})\n",
    "print(result)\n"
   ]
  },
  {
   "cell_type": "markdown",
   "metadata": {},
   "source": [
    "## ReAct"
   ]
  },
  {
   "cell_type": "code",
   "execution_count": 8,
   "metadata": {},
   "outputs": [
    {
     "ename": "ModuleNotFoundError",
     "evalue": "No module named 'langgraph'",
     "output_type": "error",
     "traceback": [
      "\u001b[0;31m---------------------------------------------------------------------------\u001b[0m",
      "\u001b[0;31mModuleNotFoundError\u001b[0m                       Traceback (most recent call last)",
      "Cell \u001b[0;32mIn[8], line 1\u001b[0m\n\u001b[0;32m----> 1\u001b[0m \u001b[38;5;28;01mfrom\u001b[39;00m \u001b[38;5;21;01mlanggraph\u001b[39;00m\u001b[38;5;21;01m.\u001b[39;00m\u001b[38;5;21;01mprebuilt\u001b[39;00m \u001b[38;5;28;01mimport\u001b[39;00m create_react_agent\n\u001b[1;32m      2\u001b[0m \u001b[38;5;28;01mfrom\u001b[39;00m \u001b[38;5;21;01mlangchain\u001b[39;00m\u001b[38;5;21;01m.\u001b[39;00m\u001b[38;5;21;01magents\u001b[39;00m \u001b[38;5;28;01mimport\u001b[39;00m load_tools\n\u001b[1;32m      4\u001b[0m llm \u001b[38;5;241m=\u001b[39m ChatOpenAI(model\u001b[38;5;241m=\u001b[39m\u001b[38;5;124m\"\u001b[39m\u001b[38;5;124mgpt-4o-mini\u001b[39m\u001b[38;5;124m\"\u001b[39m)\n",
      "\u001b[0;31mModuleNotFoundError\u001b[0m: No module named 'langgraph'"
     ]
    }
   ],
   "source": [
    "from langgraph.prebuilt import create_react_agent\n",
    "from langchain.agents import load_tools\n",
    "\n",
    "llm = ChatOpenAI(model=\"gpt-4o-mini\")\n",
    "tools = load_tools([\"llm-math\"], llm=llm)\n",
    "agent = create_react_agent(llm, tools)\n",
    "\n",
    "messages = agent.invoke({\"messages\": [{\"human\", \"What is the square root of 101?\"}]})\n",
    "\n",
    "print(messages)\n"
   ]
  },
  {
   "cell_type": "code",
   "execution_count": null,
   "metadata": {},
   "outputs": [],
   "source": []
  }
 ],
 "metadata": {
  "kernelspec": {
   "display_name": ".venv",
   "language": "python",
   "name": "python3"
  },
  "language_info": {
   "codemirror_mode": {
    "name": "ipython",
    "version": 3
   },
   "file_extension": ".py",
   "mimetype": "text/x-python",
   "name": "python",
   "nbconvert_exporter": "python",
   "pygments_lexer": "ipython3",
   "version": "3.12.7"
  }
 },
 "nbformat": 4,
 "nbformat_minor": 2
}
